{
  "nbformat": 4,
  "nbformat_minor": 0,
  "metadata": {
    "colab": {
      "provenance": []
    },
    "kernelspec": {
      "name": "python3",
      "display_name": "Python 3"
    },
    "language_info": {
      "name": "python"
    }
  },
  "cells": [
    {
      "cell_type": "code",
      "execution_count": 2,
      "metadata": {
        "id": "Z0s_Am2qBJY7"
      },
      "outputs": [],
      "source": [
        "import pandas as pd"
      ]
    },
    {
      "cell_type": "code",
      "source": [
        "from google.colab import files\n",
        "uploaded = files.upload()"
      ],
      "metadata": {
        "colab": {
          "base_uri": "https://localhost:8080/",
          "height": 74
        },
        "id": "0IARewKABRfQ",
        "outputId": "1256fe5e-9b79-4b29-9e9e-78fbc10f8d2f"
      },
      "execution_count": 3,
      "outputs": [
        {
          "output_type": "display_data",
          "data": {
            "text/plain": [
              "<IPython.core.display.HTML object>"
            ],
            "text/html": [
              "\n",
              "     <input type=\"file\" id=\"files-41367be1-edfb-4de4-9db4-662e7612c190\" name=\"files[]\" multiple disabled\n",
              "        style=\"border:none\" />\n",
              "     <output id=\"result-41367be1-edfb-4de4-9db4-662e7612c190\">\n",
              "      Upload widget is only available when the cell has been executed in the\n",
              "      current browser session. Please rerun this cell to enable.\n",
              "      </output>\n",
              "      <script>// Copyright 2017 Google LLC\n",
              "//\n",
              "// Licensed under the Apache License, Version 2.0 (the \"License\");\n",
              "// you may not use this file except in compliance with the License.\n",
              "// You may obtain a copy of the License at\n",
              "//\n",
              "//      http://www.apache.org/licenses/LICENSE-2.0\n",
              "//\n",
              "// Unless required by applicable law or agreed to in writing, software\n",
              "// distributed under the License is distributed on an \"AS IS\" BASIS,\n",
              "// WITHOUT WARRANTIES OR CONDITIONS OF ANY KIND, either express or implied.\n",
              "// See the License for the specific language governing permissions and\n",
              "// limitations under the License.\n",
              "\n",
              "/**\n",
              " * @fileoverview Helpers for google.colab Python module.\n",
              " */\n",
              "(function(scope) {\n",
              "function span(text, styleAttributes = {}) {\n",
              "  const element = document.createElement('span');\n",
              "  element.textContent = text;\n",
              "  for (const key of Object.keys(styleAttributes)) {\n",
              "    element.style[key] = styleAttributes[key];\n",
              "  }\n",
              "  return element;\n",
              "}\n",
              "\n",
              "// Max number of bytes which will be uploaded at a time.\n",
              "const MAX_PAYLOAD_SIZE = 100 * 1024;\n",
              "\n",
              "function _uploadFiles(inputId, outputId) {\n",
              "  const steps = uploadFilesStep(inputId, outputId);\n",
              "  const outputElement = document.getElementById(outputId);\n",
              "  // Cache steps on the outputElement to make it available for the next call\n",
              "  // to uploadFilesContinue from Python.\n",
              "  outputElement.steps = steps;\n",
              "\n",
              "  return _uploadFilesContinue(outputId);\n",
              "}\n",
              "\n",
              "// This is roughly an async generator (not supported in the browser yet),\n",
              "// where there are multiple asynchronous steps and the Python side is going\n",
              "// to poll for completion of each step.\n",
              "// This uses a Promise to block the python side on completion of each step,\n",
              "// then passes the result of the previous step as the input to the next step.\n",
              "function _uploadFilesContinue(outputId) {\n",
              "  const outputElement = document.getElementById(outputId);\n",
              "  const steps = outputElement.steps;\n",
              "\n",
              "  const next = steps.next(outputElement.lastPromiseValue);\n",
              "  return Promise.resolve(next.value.promise).then((value) => {\n",
              "    // Cache the last promise value to make it available to the next\n",
              "    // step of the generator.\n",
              "    outputElement.lastPromiseValue = value;\n",
              "    return next.value.response;\n",
              "  });\n",
              "}\n",
              "\n",
              "/**\n",
              " * Generator function which is called between each async step of the upload\n",
              " * process.\n",
              " * @param {string} inputId Element ID of the input file picker element.\n",
              " * @param {string} outputId Element ID of the output display.\n",
              " * @return {!Iterable<!Object>} Iterable of next steps.\n",
              " */\n",
              "function* uploadFilesStep(inputId, outputId) {\n",
              "  const inputElement = document.getElementById(inputId);\n",
              "  inputElement.disabled = false;\n",
              "\n",
              "  const outputElement = document.getElementById(outputId);\n",
              "  outputElement.innerHTML = '';\n",
              "\n",
              "  const pickedPromise = new Promise((resolve) => {\n",
              "    inputElement.addEventListener('change', (e) => {\n",
              "      resolve(e.target.files);\n",
              "    });\n",
              "  });\n",
              "\n",
              "  const cancel = document.createElement('button');\n",
              "  inputElement.parentElement.appendChild(cancel);\n",
              "  cancel.textContent = 'Cancel upload';\n",
              "  const cancelPromise = new Promise((resolve) => {\n",
              "    cancel.onclick = () => {\n",
              "      resolve(null);\n",
              "    };\n",
              "  });\n",
              "\n",
              "  // Wait for the user to pick the files.\n",
              "  const files = yield {\n",
              "    promise: Promise.race([pickedPromise, cancelPromise]),\n",
              "    response: {\n",
              "      action: 'starting',\n",
              "    }\n",
              "  };\n",
              "\n",
              "  cancel.remove();\n",
              "\n",
              "  // Disable the input element since further picks are not allowed.\n",
              "  inputElement.disabled = true;\n",
              "\n",
              "  if (!files) {\n",
              "    return {\n",
              "      response: {\n",
              "        action: 'complete',\n",
              "      }\n",
              "    };\n",
              "  }\n",
              "\n",
              "  for (const file of files) {\n",
              "    const li = document.createElement('li');\n",
              "    li.append(span(file.name, {fontWeight: 'bold'}));\n",
              "    li.append(span(\n",
              "        `(${file.type || 'n/a'}) - ${file.size} bytes, ` +\n",
              "        `last modified: ${\n",
              "            file.lastModifiedDate ? file.lastModifiedDate.toLocaleDateString() :\n",
              "                                    'n/a'} - `));\n",
              "    const percent = span('0% done');\n",
              "    li.appendChild(percent);\n",
              "\n",
              "    outputElement.appendChild(li);\n",
              "\n",
              "    const fileDataPromise = new Promise((resolve) => {\n",
              "      const reader = new FileReader();\n",
              "      reader.onload = (e) => {\n",
              "        resolve(e.target.result);\n",
              "      };\n",
              "      reader.readAsArrayBuffer(file);\n",
              "    });\n",
              "    // Wait for the data to be ready.\n",
              "    let fileData = yield {\n",
              "      promise: fileDataPromise,\n",
              "      response: {\n",
              "        action: 'continue',\n",
              "      }\n",
              "    };\n",
              "\n",
              "    // Use a chunked sending to avoid message size limits. See b/62115660.\n",
              "    let position = 0;\n",
              "    do {\n",
              "      const length = Math.min(fileData.byteLength - position, MAX_PAYLOAD_SIZE);\n",
              "      const chunk = new Uint8Array(fileData, position, length);\n",
              "      position += length;\n",
              "\n",
              "      const base64 = btoa(String.fromCharCode.apply(null, chunk));\n",
              "      yield {\n",
              "        response: {\n",
              "          action: 'append',\n",
              "          file: file.name,\n",
              "          data: base64,\n",
              "        },\n",
              "      };\n",
              "\n",
              "      let percentDone = fileData.byteLength === 0 ?\n",
              "          100 :\n",
              "          Math.round((position / fileData.byteLength) * 100);\n",
              "      percent.textContent = `${percentDone}% done`;\n",
              "\n",
              "    } while (position < fileData.byteLength);\n",
              "  }\n",
              "\n",
              "  // All done.\n",
              "  yield {\n",
              "    response: {\n",
              "      action: 'complete',\n",
              "    }\n",
              "  };\n",
              "}\n",
              "\n",
              "scope.google = scope.google || {};\n",
              "scope.google.colab = scope.google.colab || {};\n",
              "scope.google.colab._files = {\n",
              "  _uploadFiles,\n",
              "  _uploadFilesContinue,\n",
              "};\n",
              "})(self);\n",
              "</script> "
            ]
          },
          "metadata": {}
        },
        {
          "output_type": "stream",
          "name": "stdout",
          "text": [
            "Saving beats_reviews.csv to beats_reviews.csv\n"
          ]
        }
      ]
    },
    {
      "cell_type": "code",
      "source": [
        "df = pd.read_csv('beats_reviews.csv')"
      ],
      "metadata": {
        "id": "YwP2lqGSFlcm"
      },
      "execution_count": 4,
      "outputs": []
    },
    {
      "cell_type": "code",
      "source": [
        "print(df.head())"
      ],
      "metadata": {
        "colab": {
          "base_uri": "https://localhost:8080/"
        },
        "id": "Jf1MthM0Breg",
        "outputId": "e48284f9-4b11-466e-bb53-2599ced798b0"
      },
      "execution_count": 5,
      "outputs": [
        {
          "output_type": "stream",
          "name": "stdout",
          "text": [
            "         asin       review_id  \\\n",
            "0  B0D4SX9RC6  R25X0TE59JOMS3   \n",
            "1  B0D4SX9RC6   RA0QY335MJ1GL   \n",
            "2  B0D4SX9RC6  R3GFKAF488MHHP   \n",
            "3  B0D4SX9RC6  R2SW6Y89GDH3FG   \n",
            "4  B0D4SX9RC6  R3R7XPH8WUAWNW   \n",
            "\n",
            "                                               title         author  rating  \\\n",
            "0  5.0 out of 5 stars Used Beats Pill 2024 still ...  Leila L’Abate       5   \n",
            "1  5.0 out of 5 stars So much power in a compact ...         LyneeZ       5   \n",
            "2                 5.0 out of 5 stars Worth the money  Lauren Bollen       5   \n",
            "3  5.0 out of 5 stars I'm finding I have to charg...    wanda lyons       5   \n",
            "4       5.0 out of 5 stars The Kim Gray is excellent         Butter       5   \n",
            "\n",
            "                                             content  \\\n",
            "0  I bought this used in \"acceptable\" condition, ...   \n",
            "1  Just like most others who have reviewed this i...   \n",
            "2  I’m not going to lie, I wasn’t a skeptic at fi...   \n",
            "3  Hello. This product is awesome. I listen to mu...   \n",
            "4  This is a great sounding Bluetooth speaker. It...   \n",
            "\n",
            "                                        timestamp  \\\n",
            "0  Reviewed in the United States February 9, 2025   \n",
            "1      Reviewed in the United States May 19, 2025   \n",
            "2      Reviewed in the United States May 11, 2025   \n",
            "3      Reviewed in the United States May 16, 2025   \n",
            "4      Reviewed in the United States May 14, 2025   \n",
            "\n",
            "                     profile_id  is_verified  helpful_count  \\\n",
            "0  AGRFASG4AR4DPZ2F3QWCB7II5P6A         True             10   \n",
            "1  AFFZZQZSX5RJA3Z2HP3KMPS5BILA         True              4   \n",
            "2  AGBNRZ5PLI7Q6ONN6RZT3XSBSLKA         True              8   \n",
            "3  AE2FIBNXHGN6VJNMESB4OYRBXOAQ         True              4   \n",
            "4  AHCHTYTJ33XPV5FFTLC6KMQ5YMJA         True              0   \n",
            "\n",
            "                                  product_attributes  \n",
            "0  Color: Statement Red, Style: Pill, Set: Withou...  \n",
            "1  Color: Dark Gray, Style: Pill, Set: Without Ap...  \n",
            "2  Color: Champagne Gold, Style: Pill, Set: Witho...  \n",
            "3  Color: Dark Gray, Style: Pill, Set: Without Ap...  \n",
            "4  Color: Dark Gray, Style: Pill, Set: Without Ap...  \n"
          ]
        }
      ]
    },
    {
      "cell_type": "code",
      "source": [
        "import numpy as np\n",
        "\n",
        "#Convert to numpy array\n",
        "ratings = df['rating'].values\n",
        "\n",
        "#Replace missing values with the mean\n",
        "mean_rating = np.nanmean(ratings)\n",
        "ratings = np.where(np.isnan(ratings), mean_rating, ratings)\n",
        "df['rating'] = ratings"
      ],
      "metadata": {
        "id": "1p8_L-N2GV0i"
      },
      "execution_count": 10,
      "outputs": []
    },
    {
      "cell_type": "code",
      "source": [
        "# Keep only valid ratings\n",
        "valid_ratings = ratings[(ratings >= 0) & (ratings <= 5)]\n",
        "df = df[df['rating'].isin(valid_ratings)]"
      ],
      "metadata": {
        "colab": {
          "base_uri": "https://localhost:8080/"
        },
        "id": "P1Pzb84i5AVI",
        "outputId": "bd2eb665-a70b-405d-8a9d-b81f7be5bd68"
      },
      "execution_count": 11,
      "outputs": [
        {
          "output_type": "stream",
          "name": "stdout",
          "text": [
            "[5. 5. 5. 5. 5. 4. 5. 5. 5. 5. 5. 5. 5. 5. 5. 5. 5. 5. 5. 1. 5. 5. 5. 5.\n",
            " 4. 5. 5. 5. 5. 5. 5. 5. 5. 5. 5. 1. 4. 5. 4. 5. 5. 1.]\n"
          ]
        }
      ]
    },
    {
      "cell_type": "code",
      "source": [
        "#Normalize data\n",
        "min_rating = np.min(ratings)\n",
        "max_rating = np.max(ratings)\n",
        "normalized_ratings = (ratings - min_rating) / (max_rating - min_rating)\n",
        "df['normalized_rating'] = normalized_ratings"
      ],
      "metadata": {
        "id": "fDuPYIcK-1Um"
      },
      "execution_count": 31,
      "outputs": []
    },
    {
      "cell_type": "code",
      "source": [
        "#Data types\n",
        "df['helpful_count'] = df['helpful_count'].astype(np.float64)"
      ],
      "metadata": {
        "id": "kxFD8pCo_diu"
      },
      "execution_count": 19,
      "outputs": []
    },
    {
      "cell_type": "code",
      "source": [
        "#Check for duplicates\n",
        "print(df.duplicated())"
      ],
      "metadata": {
        "colab": {
          "base_uri": "https://localhost:8080/"
        },
        "id": "kLsftTqHGhyA",
        "outputId": "66b59ebe-0fab-4df9-a288-e4caffbb0b54"
      },
      "execution_count": 21,
      "outputs": [
        {
          "output_type": "stream",
          "name": "stdout",
          "text": [
            "0     False\n",
            "1     False\n",
            "2     False\n",
            "3     False\n",
            "4     False\n",
            "5     False\n",
            "6     False\n",
            "7     False\n",
            "8     False\n",
            "9     False\n",
            "10    False\n",
            "11    False\n",
            "12    False\n",
            "13    False\n",
            "14    False\n",
            "15    False\n",
            "16    False\n",
            "17    False\n",
            "18    False\n",
            "19    False\n",
            "20    False\n",
            "21    False\n",
            "22    False\n",
            "23    False\n",
            "24    False\n",
            "25    False\n",
            "26    False\n",
            "27    False\n",
            "28    False\n",
            "29    False\n",
            "30    False\n",
            "31    False\n",
            "32    False\n",
            "33    False\n",
            "34    False\n",
            "35    False\n",
            "36    False\n",
            "37    False\n",
            "38    False\n",
            "39    False\n",
            "40    False\n",
            "41    False\n",
            "dtype: bool\n"
          ]
        }
      ]
    },
    {
      "cell_type": "code",
      "source": [
        "#Review lenghts\n",
        "review_lengths = np.array([len(content.split()) for content in df['content']])\n",
        "print(review_lengths)\n"
      ],
      "metadata": {
        "colab": {
          "base_uri": "https://localhost:8080/"
        },
        "id": "vYIbYUUI51kl",
        "outputId": "7cbace4c-123c-443c-a638-8313f3eaca47"
      },
      "execution_count": 22,
      "outputs": [
        {
          "output_type": "stream",
          "name": "stdout",
          "text": [
            "[550  79  84  54  47   7  41  39 264  56  40  30  43   5   4   1   6  25\n",
            "  34  83  25 446 339 229  33  39  15   1   4  27  30  38  18  15  11  24\n",
            "  40  10  51   7   5  45]\n"
          ]
        }
      ]
    },
    {
      "cell_type": "code",
      "source": [
        "#Date\n",
        "df['clean_date'] = df['timestamp'].str.extract(r'([A-Za-z]+ \\d{1,2}, \\d{4})')\n",
        "df['review_date'] = pd.to_datetime(df['clean_date'], format='%B %d, %Y', errors='coerce')\n",
        "df.drop(columns=['clean_date'], inplace=True)"
      ],
      "metadata": {
        "id": "j3k8v4TpGoT_"
      },
      "execution_count": 23,
      "outputs": []
    },
    {
      "cell_type": "code",
      "source": [
        "#Split product attributes\n",
        "df['color'] = df['product_attributes'].str.extract(r'Color: ([^,]+)')\n",
        "df['style'] = df['product_attributes'].str.extract(r'Style: ([^,]+)')\n",
        "df['set'] = df['product_attributes'].str.extract(r'Set: (.+)')"
      ],
      "metadata": {
        "id": "pdhGH5pFKyHf"
      },
      "execution_count": 28,
      "outputs": []
    },
    {
      "cell_type": "code",
      "source": [
        "columns_order = ['asin', 'review_id', 'review_date', 'rating', 'normalized_rating', 'title', 'author',\n",
        "                 'content', 'color', 'style', 'set', 'is_verified', 'helpful_count',\n",
        "                 'profile_id', 'product_attributes', 'timestamp']\n",
        "df = df[[col for col in columns_order if col in df.columns]]"
      ],
      "metadata": {
        "id": "TRFDzcsQK3d7"
      },
      "execution_count": 33,
      "outputs": []
    },
    {
      "cell_type": "code",
      "source": [
        "print(df.info())"
      ],
      "metadata": {
        "colab": {
          "base_uri": "https://localhost:8080/"
        },
        "id": "mIh6Mk9fK3hS",
        "outputId": "5aa00ebf-113b-4505-b969-4c0c4b7f83fe"
      },
      "execution_count": 34,
      "outputs": [
        {
          "output_type": "stream",
          "name": "stdout",
          "text": [
            "<class 'pandas.core.frame.DataFrame'>\n",
            "RangeIndex: 42 entries, 0 to 41\n",
            "Data columns (total 16 columns):\n",
            " #   Column              Non-Null Count  Dtype         \n",
            "---  ------              --------------  -----         \n",
            " 0   asin                42 non-null     object        \n",
            " 1   review_id           42 non-null     object        \n",
            " 2   review_date         42 non-null     datetime64[ns]\n",
            " 3   rating              42 non-null     float64       \n",
            " 4   normalized_rating   42 non-null     float64       \n",
            " 5   title               42 non-null     object        \n",
            " 6   author              42 non-null     object        \n",
            " 7   content             42 non-null     object        \n",
            " 8   color               41 non-null     object        \n",
            " 9   style               21 non-null     object        \n",
            " 10  set                 13 non-null     object        \n",
            " 11  is_verified         42 non-null     bool          \n",
            " 12  helpful_count       42 non-null     float64       \n",
            " 13  profile_id          27 non-null     object        \n",
            " 14  product_attributes  41 non-null     object        \n",
            " 15  timestamp           42 non-null     object        \n",
            "dtypes: bool(1), datetime64[ns](1), float64(3), object(11)\n",
            "memory usage: 5.1+ KB\n",
            "None\n"
          ]
        }
      ]
    },
    {
      "cell_type": "code",
      "source": [
        "#Save to csv\n",
        "np.savetxt('cleaned_reviews.csv', np.column_stack((ratings, review_lengths)), delimiter=\",\", fmt='%s', header=\"Rating,Review Length\")"
      ],
      "metadata": {
        "id": "knRGJQFuAzZS"
      },
      "execution_count": 37,
      "outputs": []
    },
    {
      "cell_type": "code",
      "source": [],
      "metadata": {
        "id": "aRUPNdP7A_f5"
      },
      "execution_count": null,
      "outputs": []
    }
  ]
}