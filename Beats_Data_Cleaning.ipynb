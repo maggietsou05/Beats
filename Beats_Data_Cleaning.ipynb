{
  "nbformat": 4,
  "nbformat_minor": 0,
  "metadata": {
    "colab": {
      "provenance": []
    },
    "kernelspec": {
      "name": "python3",
      "display_name": "Python 3"
    },
    "language_info": {
      "name": "python"
    }
  },
  "cells": [
    {
      "cell_type": "code",
      "execution_count": null,
      "metadata": {
        "id": "Z0s_Am2qBJY7"
      },
      "outputs": [],
      "source": [
        "import pandas as pd"
      ]
    },
    {
      "cell_type": "code",
      "source": [
        "from google.colab import files\n",
        "uploaded = files.upload()"
      ],
      "metadata": {
        "colab": {
          "base_uri": "https://localhost:8080/",
          "height": 74
        },
        "id": "0IARewKABRfQ",
        "outputId": "a64f198e-b510-4167-e8ff-1776c8d807a5"
      },
      "execution_count": null,
      "outputs": [
        {
          "output_type": "display_data",
          "data": {
            "text/plain": [
              "<IPython.core.display.HTML object>"
            ],
            "text/html": [
              "\n",
              "     <input type=\"file\" id=\"files-191df8c2-eacf-40ce-bb80-ec759d3dc9a8\" name=\"files[]\" multiple disabled\n",
              "        style=\"border:none\" />\n",
              "     <output id=\"result-191df8c2-eacf-40ce-bb80-ec759d3dc9a8\">\n",
              "      Upload widget is only available when the cell has been executed in the\n",
              "      current browser session. Please rerun this cell to enable.\n",
              "      </output>\n",
              "      <script>// Copyright 2017 Google LLC\n",
              "//\n",
              "// Licensed under the Apache License, Version 2.0 (the \"License\");\n",
              "// you may not use this file except in compliance with the License.\n",
              "// You may obtain a copy of the License at\n",
              "//\n",
              "//      http://www.apache.org/licenses/LICENSE-2.0\n",
              "//\n",
              "// Unless required by applicable law or agreed to in writing, software\n",
              "// distributed under the License is distributed on an \"AS IS\" BASIS,\n",
              "// WITHOUT WARRANTIES OR CONDITIONS OF ANY KIND, either express or implied.\n",
              "// See the License for the specific language governing permissions and\n",
              "// limitations under the License.\n",
              "\n",
              "/**\n",
              " * @fileoverview Helpers for google.colab Python module.\n",
              " */\n",
              "(function(scope) {\n",
              "function span(text, styleAttributes = {}) {\n",
              "  const element = document.createElement('span');\n",
              "  element.textContent = text;\n",
              "  for (const key of Object.keys(styleAttributes)) {\n",
              "    element.style[key] = styleAttributes[key];\n",
              "  }\n",
              "  return element;\n",
              "}\n",
              "\n",
              "// Max number of bytes which will be uploaded at a time.\n",
              "const MAX_PAYLOAD_SIZE = 100 * 1024;\n",
              "\n",
              "function _uploadFiles(inputId, outputId) {\n",
              "  const steps = uploadFilesStep(inputId, outputId);\n",
              "  const outputElement = document.getElementById(outputId);\n",
              "  // Cache steps on the outputElement to make it available for the next call\n",
              "  // to uploadFilesContinue from Python.\n",
              "  outputElement.steps = steps;\n",
              "\n",
              "  return _uploadFilesContinue(outputId);\n",
              "}\n",
              "\n",
              "// This is roughly an async generator (not supported in the browser yet),\n",
              "// where there are multiple asynchronous steps and the Python side is going\n",
              "// to poll for completion of each step.\n",
              "// This uses a Promise to block the python side on completion of each step,\n",
              "// then passes the result of the previous step as the input to the next step.\n",
              "function _uploadFilesContinue(outputId) {\n",
              "  const outputElement = document.getElementById(outputId);\n",
              "  const steps = outputElement.steps;\n",
              "\n",
              "  const next = steps.next(outputElement.lastPromiseValue);\n",
              "  return Promise.resolve(next.value.promise).then((value) => {\n",
              "    // Cache the last promise value to make it available to the next\n",
              "    // step of the generator.\n",
              "    outputElement.lastPromiseValue = value;\n",
              "    return next.value.response;\n",
              "  });\n",
              "}\n",
              "\n",
              "/**\n",
              " * Generator function which is called between each async step of the upload\n",
              " * process.\n",
              " * @param {string} inputId Element ID of the input file picker element.\n",
              " * @param {string} outputId Element ID of the output display.\n",
              " * @return {!Iterable<!Object>} Iterable of next steps.\n",
              " */\n",
              "function* uploadFilesStep(inputId, outputId) {\n",
              "  const inputElement = document.getElementById(inputId);\n",
              "  inputElement.disabled = false;\n",
              "\n",
              "  const outputElement = document.getElementById(outputId);\n",
              "  outputElement.innerHTML = '';\n",
              "\n",
              "  const pickedPromise = new Promise((resolve) => {\n",
              "    inputElement.addEventListener('change', (e) => {\n",
              "      resolve(e.target.files);\n",
              "    });\n",
              "  });\n",
              "\n",
              "  const cancel = document.createElement('button');\n",
              "  inputElement.parentElement.appendChild(cancel);\n",
              "  cancel.textContent = 'Cancel upload';\n",
              "  const cancelPromise = new Promise((resolve) => {\n",
              "    cancel.onclick = () => {\n",
              "      resolve(null);\n",
              "    };\n",
              "  });\n",
              "\n",
              "  // Wait for the user to pick the files.\n",
              "  const files = yield {\n",
              "    promise: Promise.race([pickedPromise, cancelPromise]),\n",
              "    response: {\n",
              "      action: 'starting',\n",
              "    }\n",
              "  };\n",
              "\n",
              "  cancel.remove();\n",
              "\n",
              "  // Disable the input element since further picks are not allowed.\n",
              "  inputElement.disabled = true;\n",
              "\n",
              "  if (!files) {\n",
              "    return {\n",
              "      response: {\n",
              "        action: 'complete',\n",
              "      }\n",
              "    };\n",
              "  }\n",
              "\n",
              "  for (const file of files) {\n",
              "    const li = document.createElement('li');\n",
              "    li.append(span(file.name, {fontWeight: 'bold'}));\n",
              "    li.append(span(\n",
              "        `(${file.type || 'n/a'}) - ${file.size} bytes, ` +\n",
              "        `last modified: ${\n",
              "            file.lastModifiedDate ? file.lastModifiedDate.toLocaleDateString() :\n",
              "                                    'n/a'} - `));\n",
              "    const percent = span('0% done');\n",
              "    li.appendChild(percent);\n",
              "\n",
              "    outputElement.appendChild(li);\n",
              "\n",
              "    const fileDataPromise = new Promise((resolve) => {\n",
              "      const reader = new FileReader();\n",
              "      reader.onload = (e) => {\n",
              "        resolve(e.target.result);\n",
              "      };\n",
              "      reader.readAsArrayBuffer(file);\n",
              "    });\n",
              "    // Wait for the data to be ready.\n",
              "    let fileData = yield {\n",
              "      promise: fileDataPromise,\n",
              "      response: {\n",
              "        action: 'continue',\n",
              "      }\n",
              "    };\n",
              "\n",
              "    // Use a chunked sending to avoid message size limits. See b/62115660.\n",
              "    let position = 0;\n",
              "    do {\n",
              "      const length = Math.min(fileData.byteLength - position, MAX_PAYLOAD_SIZE);\n",
              "      const chunk = new Uint8Array(fileData, position, length);\n",
              "      position += length;\n",
              "\n",
              "      const base64 = btoa(String.fromCharCode.apply(null, chunk));\n",
              "      yield {\n",
              "        response: {\n",
              "          action: 'append',\n",
              "          file: file.name,\n",
              "          data: base64,\n",
              "        },\n",
              "      };\n",
              "\n",
              "      let percentDone = fileData.byteLength === 0 ?\n",
              "          100 :\n",
              "          Math.round((position / fileData.byteLength) * 100);\n",
              "      percent.textContent = `${percentDone}% done`;\n",
              "\n",
              "    } while (position < fileData.byteLength);\n",
              "  }\n",
              "\n",
              "  // All done.\n",
              "  yield {\n",
              "    response: {\n",
              "      action: 'complete',\n",
              "    }\n",
              "  };\n",
              "}\n",
              "\n",
              "scope.google = scope.google || {};\n",
              "scope.google.colab = scope.google.colab || {};\n",
              "scope.google.colab._files = {\n",
              "  _uploadFiles,\n",
              "  _uploadFilesContinue,\n",
              "};\n",
              "})(self);\n",
              "</script> "
            ]
          },
          "metadata": {}
        },
        {
          "output_type": "stream",
          "name": "stdout",
          "text": [
            "Saving beats_reviews.csv to beats_reviews (2).csv\n"
          ]
        }
      ]
    },
    {
      "cell_type": "code",
      "source": [
        "df = pd.read_csv('beats_reviews.csv')"
      ],
      "metadata": {
        "id": "YwP2lqGSFlcm"
      },
      "execution_count": null,
      "outputs": []
    },
    {
      "cell_type": "code",
      "source": [
        "print(df.head())"
      ],
      "metadata": {
        "colab": {
          "base_uri": "https://localhost:8080/"
        },
        "id": "Jf1MthM0Breg",
        "outputId": "e92c9eb1-4331-466b-8ae7-8f645d7e9f86"
      },
      "execution_count": null,
      "outputs": [
        {
          "output_type": "stream",
          "name": "stdout",
          "text": [
            "         asin       review_id  \\\n",
            "0  B0D4SX9RC6  R25X0TE59JOMS3   \n",
            "1  B0D4SX9RC6   RA0QY335MJ1GL   \n",
            "2  B0D4SX9RC6  R3GFKAF488MHHP   \n",
            "3  B0D4SX9RC6  R2SW6Y89GDH3FG   \n",
            "4  B0D4SX9RC6  R3R7XPH8WUAWNW   \n",
            "\n",
            "                                               title         author  rating  \\\n",
            "0  5.0 out of 5 stars Used Beats Pill 2024 still ...  Leila L’Abate       5   \n",
            "1  5.0 out of 5 stars So much power in a compact ...         LyneeZ       5   \n",
            "2                 5.0 out of 5 stars Worth the money  Lauren Bollen       5   \n",
            "3  5.0 out of 5 stars I'm finding I have to charg...    wanda lyons       5   \n",
            "4       5.0 out of 5 stars The Kim Gray is excellent         Butter       5   \n",
            "\n",
            "                                             content  \\\n",
            "0  I bought this used in \"acceptable\" condition, ...   \n",
            "1  Just like most others who have reviewed this i...   \n",
            "2  I’m not going to lie, I wasn’t a skeptic at fi...   \n",
            "3  Hello. This product is awesome. I listen to mu...   \n",
            "4  This is a great sounding Bluetooth speaker. It...   \n",
            "\n",
            "                                        timestamp  \\\n",
            "0  Reviewed in the United States February 9, 2025   \n",
            "1      Reviewed in the United States May 19, 2025   \n",
            "2      Reviewed in the United States May 11, 2025   \n",
            "3      Reviewed in the United States May 16, 2025   \n",
            "4      Reviewed in the United States May 14, 2025   \n",
            "\n",
            "                     profile_id  is_verified  helpful_count  \\\n",
            "0  AGRFASG4AR4DPZ2F3QWCB7II5P6A         True             10   \n",
            "1  AFFZZQZSX5RJA3Z2HP3KMPS5BILA         True              4   \n",
            "2  AGBNRZ5PLI7Q6ONN6RZT3XSBSLKA         True              8   \n",
            "3  AE2FIBNXHGN6VJNMESB4OYRBXOAQ         True              4   \n",
            "4  AHCHTYTJ33XPV5FFTLC6KMQ5YMJA         True              0   \n",
            "\n",
            "                                  product_attributes  \n",
            "0  Color: Statement Red, Style: Pill, Set: Withou...  \n",
            "1  Color: Dark Gray, Style: Pill, Set: Without Ap...  \n",
            "2  Color: Champagne Gold, Style: Pill, Set: Witho...  \n",
            "3  Color: Dark Gray, Style: Pill, Set: Without Ap...  \n",
            "4  Color: Dark Gray, Style: Pill, Set: Without Ap...  \n"
          ]
        }
      ]
    },
    {
      "cell_type": "code",
      "source": [
        "print(df.info())"
      ],
      "metadata": {
        "colab": {
          "base_uri": "https://localhost:8080/"
        },
        "id": "kmuVbR19GH4V",
        "outputId": "55283984-0bad-4f88-b96f-9f3534bbd705"
      },
      "execution_count": null,
      "outputs": [
        {
          "output_type": "stream",
          "name": "stdout",
          "text": [
            "<class 'pandas.core.frame.DataFrame'>\n",
            "RangeIndex: 42 entries, 0 to 41\n",
            "Data columns (total 11 columns):\n",
            " #   Column              Non-Null Count  Dtype \n",
            "---  ------              --------------  ----- \n",
            " 0   asin                42 non-null     object\n",
            " 1   review_id           42 non-null     object\n",
            " 2   title               42 non-null     object\n",
            " 3   author              42 non-null     object\n",
            " 4   rating              42 non-null     int64 \n",
            " 5   content             42 non-null     object\n",
            " 6   timestamp           42 non-null     object\n",
            " 7   profile_id          27 non-null     object\n",
            " 8   is_verified         42 non-null     bool  \n",
            " 9   helpful_count       42 non-null     int64 \n",
            " 10  product_attributes  41 non-null     object\n",
            "dtypes: bool(1), int64(2), object(8)\n",
            "memory usage: 3.5+ KB\n",
            "None\n"
          ]
        }
      ]
    },
    {
      "cell_type": "code",
      "source": [
        "print(df.isnull())"
      ],
      "metadata": {
        "colab": {
          "base_uri": "https://localhost:8080/"
        },
        "id": "1p8_L-N2GV0i",
        "outputId": "f0a2c7b9-bfba-4761-c10e-f8a3d625f68e"
      },
      "execution_count": null,
      "outputs": [
        {
          "output_type": "stream",
          "name": "stdout",
          "text": [
            "     asin  review_id  title  author  rating  content  timestamp  profile_id  \\\n",
            "0   False      False  False   False   False    False      False       False   \n",
            "1   False      False  False   False   False    False      False       False   \n",
            "2   False      False  False   False   False    False      False       False   \n",
            "3   False      False  False   False   False    False      False       False   \n",
            "4   False      False  False   False   False    False      False       False   \n",
            "5   False      False  False   False   False    False      False       False   \n",
            "6   False      False  False   False   False    False      False       False   \n",
            "7   False      False  False   False   False    False      False       False   \n",
            "8   False      False  False   False   False    False      False        True   \n",
            "9   False      False  False   False   False    False      False        True   \n",
            "10  False      False  False   False   False    False      False        True   \n",
            "11  False      False  False   False   False    False      False        True   \n",
            "12  False      False  False   False   False    False      False        True   \n",
            "13  False      False  False   False   False    False      False       False   \n",
            "14  False      False  False   False   False    False      False       False   \n",
            "15  False      False  False   False   False    False      False       False   \n",
            "16  False      False  False   False   False    False      False       False   \n",
            "17  False      False  False   False   False    False      False       False   \n",
            "18  False      False  False   False   False    False      False       False   \n",
            "19  False      False  False   False   False    False      False       False   \n",
            "20  False      False  False   False   False    False      False       False   \n",
            "21  False      False  False   False   False    False      False       False   \n",
            "22  False      False  False   False   False    False      False       False   \n",
            "23  False      False  False   False   False    False      False       False   \n",
            "24  False      False  False   False   False    False      False        True   \n",
            "25  False      False  False   False   False    False      False        True   \n",
            "26  False      False  False   False   False    False      False        True   \n",
            "27  False      False  False   False   False    False      False        True   \n",
            "28  False      False  False   False   False    False      False        True   \n",
            "29  False      False  False   False   False    False      False       False   \n",
            "30  False      False  False   False   False    False      False       False   \n",
            "31  False      False  False   False   False    False      False       False   \n",
            "32  False      False  False   False   False    False      False       False   \n",
            "33  False      False  False   False   False    False      False       False   \n",
            "34  False      False  False   False   False    False      False       False   \n",
            "35  False      False  False   False   False    False      False       False   \n",
            "36  False      False  False   False   False    False      False       False   \n",
            "37  False      False  False   False   False    False      False        True   \n",
            "38  False      False  False   False   False    False      False        True   \n",
            "39  False      False  False   False   False    False      False        True   \n",
            "40  False      False  False   False   False    False      False        True   \n",
            "41  False      False  False   False   False    False      False        True   \n",
            "\n",
            "    is_verified  helpful_count  product_attributes  \n",
            "0         False          False               False  \n",
            "1         False          False               False  \n",
            "2         False          False               False  \n",
            "3         False          False               False  \n",
            "4         False          False               False  \n",
            "5         False          False               False  \n",
            "6         False          False               False  \n",
            "7         False          False               False  \n",
            "8         False          False               False  \n",
            "9         False          False               False  \n",
            "10        False          False               False  \n",
            "11        False          False               False  \n",
            "12        False          False               False  \n",
            "13        False          False               False  \n",
            "14        False          False               False  \n",
            "15        False          False               False  \n",
            "16        False          False               False  \n",
            "17        False          False               False  \n",
            "18        False          False               False  \n",
            "19        False          False               False  \n",
            "20        False          False               False  \n",
            "21        False          False               False  \n",
            "22        False          False               False  \n",
            "23        False          False               False  \n",
            "24        False          False               False  \n",
            "25        False          False               False  \n",
            "26        False          False               False  \n",
            "27        False          False               False  \n",
            "28        False          False               False  \n",
            "29        False          False               False  \n",
            "30        False          False               False  \n",
            "31        False          False               False  \n",
            "32        False          False               False  \n",
            "33        False          False               False  \n",
            "34        False          False               False  \n",
            "35        False          False               False  \n",
            "36        False          False                True  \n",
            "37        False          False               False  \n",
            "38        False          False               False  \n",
            "39        False          False               False  \n",
            "40        False          False               False  \n",
            "41        False          False               False  \n"
          ]
        }
      ]
    },
    {
      "cell_type": "code",
      "source": [
        "#Check for duplicates\n",
        "print(df.duplicated())"
      ],
      "metadata": {
        "colab": {
          "base_uri": "https://localhost:8080/"
        },
        "id": "kLsftTqHGhyA",
        "outputId": "08e3bd88-7593-4ddd-f439-1681f0aae58d"
      },
      "execution_count": null,
      "outputs": [
        {
          "output_type": "stream",
          "name": "stdout",
          "text": [
            "0     False\n",
            "1     False\n",
            "2     False\n",
            "3     False\n",
            "4     False\n",
            "5     False\n",
            "6     False\n",
            "7     False\n",
            "8     False\n",
            "9     False\n",
            "10    False\n",
            "11    False\n",
            "12    False\n",
            "13    False\n",
            "14    False\n",
            "15    False\n",
            "16    False\n",
            "17    False\n",
            "18    False\n",
            "19    False\n",
            "20    False\n",
            "21    False\n",
            "22    False\n",
            "23    False\n",
            "24    False\n",
            "25    False\n",
            "26    False\n",
            "27    False\n",
            "28    False\n",
            "29    False\n",
            "30    False\n",
            "31    False\n",
            "32    False\n",
            "33    False\n",
            "34    False\n",
            "35    False\n",
            "36    False\n",
            "37    False\n",
            "38    False\n",
            "39    False\n",
            "40    False\n",
            "41    False\n",
            "dtype: bool\n"
          ]
        }
      ]
    },
    {
      "cell_type": "code",
      "source": [
        "#Date\n",
        "df['clean_date'] = df['timestamp'].str.extract(r'([A-Za-z]+ \\d{1,2}, \\d{4})')\n",
        "df['review_date'] = pd.to_datetime(df['clean_date'], format='%B %d, %Y', errors='coerce')\n",
        "df.drop(columns=['clean_date'], inplace=True)"
      ],
      "metadata": {
        "id": "j3k8v4TpGoT_"
      },
      "execution_count": null,
      "outputs": []
    },
    {
      "cell_type": "code",
      "source": [
        "#Split product attributes\n",
        "df['Color'] = df['product_attributes'].str.extract(r'Color: ([^,]+)')\n",
        "df['Style'] = df['product_attributes'].str.extract(r'Style: ([^,]+)')\n",
        "df['Set'] = df['product_attributes'].str.extract(r'Set: (.+)')"
      ],
      "metadata": {
        "id": "pdhGH5pFKyHf"
      },
      "execution_count": null,
      "outputs": []
    },
    {
      "cell_type": "code",
      "source": [
        "columns_order = ['asin', 'review_id', 'review_date', 'rating', 'title', 'author',\n",
        "                 'content', 'Color', 'Style', 'Set', 'is_verified', 'helpful_count',\n",
        "                 'profile_id', 'product_attributes', 'timestamp']\n",
        "df = df[[col for col in columns_order if col in df.columns]]"
      ],
      "metadata": {
        "id": "TRFDzcsQK3d7"
      },
      "execution_count": null,
      "outputs": []
    },
    {
      "cell_type": "code",
      "source": [
        "print(df.info())"
      ],
      "metadata": {
        "colab": {
          "base_uri": "https://localhost:8080/"
        },
        "id": "mIh6Mk9fK3hS",
        "outputId": "0f7fd257-7191-4013-9f41-3e6d54cbd0b0"
      },
      "execution_count": null,
      "outputs": [
        {
          "output_type": "stream",
          "name": "stdout",
          "text": [
            "<class 'pandas.core.frame.DataFrame'>\n",
            "RangeIndex: 42 entries, 0 to 41\n",
            "Data columns (total 15 columns):\n",
            " #   Column              Non-Null Count  Dtype         \n",
            "---  ------              --------------  -----         \n",
            " 0   asin                42 non-null     object        \n",
            " 1   review_id           42 non-null     object        \n",
            " 2   review_date         42 non-null     datetime64[ns]\n",
            " 3   rating              42 non-null     int64         \n",
            " 4   title               42 non-null     object        \n",
            " 5   author              42 non-null     object        \n",
            " 6   content             42 non-null     object        \n",
            " 7   Color               41 non-null     object        \n",
            " 8   Style               21 non-null     object        \n",
            " 9   Set                 13 non-null     object        \n",
            " 10  is_verified         42 non-null     bool          \n",
            " 11  helpful_count       42 non-null     int64         \n",
            " 12  profile_id          27 non-null     object        \n",
            " 13  product_attributes  41 non-null     object        \n",
            " 14  timestamp           42 non-null     object        \n",
            "dtypes: bool(1), datetime64[ns](1), int64(2), object(11)\n",
            "memory usage: 4.8+ KB\n",
            "None\n"
          ]
        }
      ]
    },
    {
      "cell_type": "code",
      "source": [
        "df.to_csv(\"beats_reviews_cleaned.csv\", index=False)"
      ],
      "metadata": {
        "id": "ZQqW2YQ0K_BT"
      },
      "execution_count": null,
      "outputs": []
    }
  ]
}