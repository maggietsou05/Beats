{
  "nbformat": 4,
  "nbformat_minor": 0,
  "metadata": {
    "colab": {
      "provenance": []
    },
    "kernelspec": {
      "name": "python3",
      "display_name": "Python 3"
    },
    "language_info": {
      "name": "python"
    }
  },
  "cells": [
    {
      "cell_type": "markdown",
      "source": [
        "**WORKING API SCRAPER**"
      ],
      "metadata": {
        "id": "73werNghoKLW"
      }
    },
    {
      "cell_type": "code",
      "source": [
        "import requests\n",
        "import json\n",
        "import pandas as pd\n",
        "from time import sleep\n",
        "\n",
        "# Oxylabs credentials\n",
        "username = \"mickey_Mc9c3\"\n",
        "password = \"maKOW295_2924\"\n",
        "\n",
        "# Beats speaker ASINs\n",
        "beats_asins = [\n",
        "    \"B0D4SX9RC6\",\n",
        "    \"B0DG62SQVH\",\n",
        "    \"B016QXV2QK\",\n",
        "    \"B078HG6WNX\"\n",
        "]\n",
        "\n",
        "beats_reviews = []\n",
        "\n",
        "for asin in beats_asins:\n",
        "    print(f\"Scraping ASIN: {asin}\")\n",
        "\n",
        "    payload = {\n",
        "        \"source\": \"amazon_product\",\n",
        "        \"query\": asin,\n",
        "        \"parse\": True\n",
        "    }\n",
        "\n",
        "    response = requests.post(\n",
        "        \"https://realtime.oxylabs.io/v1/queries\",\n",
        "        auth=(username, password),\n",
        "        json=payload\n",
        "    )\n",
        "\n",
        "    if response.status_code != 200:\n",
        "        print(f\"Error with ASIN {asin}: {response.status_code}\")\n",
        "        continue\n",
        "\n",
        "    try:\n",
        "        content = response.json()[\"results\"][0][\"content\"]\n",
        "        reviews = content.get(\"reviews\", [])\n",
        "        for review in reviews:\n",
        "            beats_reviews.append({\n",
        "                \"asin\": asin,\n",
        "                \"review_id\": review.get(\"id\"),\n",
        "                \"title\": review.get(\"title\"),\n",
        "                \"author\": review.get(\"author\"),\n",
        "                \"rating\": review.get(\"rating\"),\n",
        "                \"content\": review.get(\"content\"),\n",
        "                \"timestamp\": review.get(\"timestamp\"),\n",
        "                \"profile_id\": review.get(\"profile_id\"),\n",
        "                \"is_verified\": review.get(\"is_verified\"),\n",
        "                \"helpful_count\": review.get(\"helpful_count\", 0),\n",
        "                \"product_attributes\": review.get(\"product_attributes\")\n",
        "            })\n",
        "    except Exception as e:\n",
        "        print(f\"Parsing failed for ASIN {asin}: {e}\")\n",
        "\n",
        "    sleep(1)\n",
        "\n",
        "# Save reviews to CSV\n",
        "df = pd.DataFrame(beats_reviews)\n",
        "df.to_csv(\"beats_reviews.csv\", index=False)\n",
        "print(f\"Saved {len(df)} reviews to beats_reviews.csv\")\n",
        "\n"
      ],
      "metadata": {
        "colab": {
          "base_uri": "https://localhost:8080/"
        },
        "id": "tgdLd8Qvl2Xc",
        "outputId": "b14c1d99-c2d8-4d52-a0ed-bc78f2ebc6a5"
      },
      "execution_count": null,
      "outputs": [
        {
          "output_type": "stream",
          "name": "stdout",
          "text": [
            "🔍 Scraping ASIN: B0F3QSJCCD\n",
            "🔍 Scraping ASIN: B0CRWKWBQF\n",
            "🔍 Scraping ASIN: B0D1CPPL85\n",
            "🔍 Scraping ASIN: B07D5JSL3L\n",
            "✅ Done! Saved 37 reviews to lg_reviews.csv\n"
          ]
        }
      ]
    }
  ]
}